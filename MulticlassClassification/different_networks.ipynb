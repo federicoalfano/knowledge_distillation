{
  "nbformat": 4,
  "nbformat_minor": 0,
  "metadata": {
    "colab": {
      "name": "different_networks.ipynb",
      "provenance": [],
      "toc_visible": true
    },
    "kernelspec": {
      "name": "python3",
      "display_name": "Python 3"
    },
    "accelerator": "GPU"
  },
  "cells": [
    {
      "cell_type": "markdown",
      "metadata": {
        "id": "xf1aDR8UQ0VC"
      },
      "source": [
        "## Transfer Learning and Knowledge Distillation\n",
        " In this notebook, the goal is to apply knowledge distillation to a student other than the master but with comparable complexity. To speed up the teacher's training process we will use a pre-trained model."
      ]
    },
    {
      "cell_type": "code",
      "metadata": {
        "id": "t5tG8U-TDZFJ"
      },
      "source": [
        "#All the imports\n",
        "import tensorflow as tf\n",
        "from BANEnsemble import BANEnsemble\n",
        "from knowledge_distillation import distill_knowledge, ban\n",
        "from WideResNet import WideResidualNetwork"
      ],
      "execution_count": null,
      "outputs": []
    },
    {
      "cell_type": "code",
      "metadata": {
        "id": "52E5W6JVEAQH",
        "outputId": "f3848e3c-a5e6-4038-9079-0ebdc632a1ca",
        "colab": {
          "base_uri": "https://localhost:8080/",
          "height": 34
        }
      },
      "source": [
        "# Connection with the dataset in drive\n",
        "from google.colab import drive\n",
        "drive.mount(\"/content/drive\")"
      ],
      "execution_count": null,
      "outputs": [
        {
          "output_type": "stream",
          "text": [
            "Mounted at /content/drive\n"
          ],
          "name": "stdout"
        }
      ]
    },
    {
      "cell_type": "markdown",
      "metadata": {
        "id": "pTDkdmoaSHGb"
      },
      "source": [
        "## Preprocessing and Augmentation\n",
        "In order to maintain consistency with previous tests, the preprocessing and image augmentation will be the same"
      ]
    },
    {
      "cell_type": "code",
      "metadata": {
        "id": "3N6SJA4KEJ7C",
        "outputId": "5eb51d93-b3e4-4106-fae8-7daeb2dd358d",
        "colab": {
          "base_uri": "https://localhost:8080/",
          "height": 68
        }
      },
      "source": [
        "BATCH_SIZE = 32\n",
        "IMAGE_SIZE = (96, 96)\n",
        "data_path = '/content'\n",
        "\n",
        "train_datagen = tf.keras.preprocessing.image.ImageDataGenerator(\n",
        "        rescale=1./255,\n",
        "        horizontal_flip=True,\n",
        "        width_shift_range=0.1,\n",
        "        height_shift_range=0.1,\n",
        "        rotation_range=0.05        )  \n",
        "valid_datagen = tf.keras.preprocessing.image.ImageDataGenerator(\n",
        "    rescale=1./255,\n",
        "    )\n",
        "\n",
        "test_datagen = tf.keras.preprocessing.image.ImageDataGenerator(\n",
        "    rescale=1./255\n",
        ")\n",
        "train_generator = train_datagen.flow_from_directory(\n",
        "        data_path+'/train',\n",
        "        target_size=IMAGE_SIZE,\n",
        "        batch_size=BATCH_SIZE,\n",
        "        class_mode='categorical',\n",
        "        )\n",
        "validation_generator = valid_datagen.flow_from_directory(\n",
        "        data_path+'/valid',\n",
        "        target_size=IMAGE_SIZE,\n",
        "        batch_size=BATCH_SIZE,\n",
        "        class_mode='categorical',\n",
        "        )\n",
        "test_generator = test_datagen.flow_from_directory(\n",
        "        data_path+'/test',\n",
        "        target_size=IMAGE_SIZE,\n",
        "        batch_size=BATCH_SIZE,\n",
        "        class_mode='categorical')"
      ],
      "execution_count": null,
      "outputs": [
        {
          "output_type": "stream",
          "text": [
            "Found 31316 images belonging to 225 classes.\n",
            "Found 1125 images belonging to 225 classes.\n",
            "Found 1125 images belonging to 225 classes.\n"
          ],
          "name": "stdout"
        }
      ]
    },
    {
      "cell_type": "markdown",
      "metadata": {
        "id": "cLqesOIchHPn"
      },
      "source": [
        "## Teacher Model Training\n",
        "\n",
        "I will start training the teacher that this time is MobileNetV2, which is in the keras package application. It is a model suitable for the purposes of the notebook. To speed up the training we will see that it will be possible to obtain good results using transfer learning. \n",
        "By default MobileNet has the imagenet weights."
      ]
    },
    {
      "cell_type": "code",
      "metadata": {
        "id": "rh_LC7c8EP_5",
        "outputId": "18923e50-9c47-4a9e-9c94-ea3e9e223339",
        "colab": {
          "base_uri": "https://localhost:8080/",
          "height": 71
        }
      },
      "source": [
        "base_model = tf.keras.applications.MobileNetV2(include_top=False, input_shape=(96, 96, 3), classes=225)\n"
      ],
      "execution_count": null,
      "outputs": [
        {
          "output_type": "stream",
          "text": [
            "Downloading data from https://storage.googleapis.com/tensorflow/keras-applications/mobilenet_v2/mobilenet_v2_weights_tf_dim_ordering_tf_kernels_1.0_96_no_top.h5\n",
            "9412608/9406464 [==============================] - 0s 0us/step\n"
          ],
          "name": "stdout"
        }
      ]
    },
    {
      "cell_type": "code",
      "metadata": {
        "id": "JkWfTrFDGDmj"
      },
      "source": [
        "teacher_model = tf.keras.models.load_model('mobile_net.h5')"
      ],
      "execution_count": null,
      "outputs": []
    },
    {
      "cell_type": "code",
      "metadata": {
        "id": "1sC-lGT8FGJ4"
      },
      "source": [
        "base_model.trainable=False\n"
      ],
      "execution_count": null,
      "outputs": []
    },
    {
      "cell_type": "code",
      "metadata": {
        "id": "_bvZAMhPFG8R",
        "outputId": "931c2b9e-baa0-4848-83b0-f8ece2916ca4",
        "colab": {
          "base_uri": "https://localhost:8080/",
          "height": 323
        }
      },
      "source": [
        "# Adding the classification layer\n",
        "\n",
        "inputs = tf.keras.layers.Input(shape=(96, 96, 3))\n",
        "x = base_model(inputs, training=False)\n",
        "x = tf.keras.layers.GlobalAveragePooling2D()(x)\n",
        "x = tf.keras.layers.Dense(225)(x)\n",
        "x = tf.keras.layers.Activation('softmax')(x)\n",
        "\n",
        "teacher_model = tf.keras.models.Model(inputs, x)\n",
        "\n",
        "teacher_model.compile(optimizer='adam', loss='categorical_crossentropy', metrics=['accuracy'])\n",
        "teacher_model.summary()"
      ],
      "execution_count": null,
      "outputs": [
        {
          "output_type": "stream",
          "text": [
            "Model: \"functional_11\"\n",
            "_________________________________________________________________\n",
            "Layer (type)                 Output Shape              Param #   \n",
            "=================================================================\n",
            "input_21 (InputLayer)        [(None, 96, 96, 3)]       0         \n",
            "_________________________________________________________________\n",
            "mobilenetv2_1.00_96 (Functio (None, 3, 3, 1280)        2257984   \n",
            "_________________________________________________________________\n",
            "global_average_pooling2d_10  (None, 1280)              0         \n",
            "_________________________________________________________________\n",
            "dense_20 (Dense)             (None, 225)               288225    \n",
            "_________________________________________________________________\n",
            "activation_12 (Activation)   (None, 225)               0         \n",
            "=================================================================\n",
            "Total params: 2,546,209\n",
            "Trainable params: 288,225\n",
            "Non-trainable params: 2,257,984\n",
            "_________________________________________________________________\n"
          ],
          "name": "stdout"
        }
      ]
    },
    {
      "cell_type": "code",
      "metadata": {
        "id": "gV9qZdz1GegJ"
      },
      "source": [
        "\n",
        "history = teacher_model.fit(train_generator, \n",
        "                            batch_size=BATCH_SIZE,\n",
        "                            validation_data=validation_generator,\n",
        "                            steps_per_epoch=train_generator.samples//BATCH_SIZE,\n",
        "                            validation_steps=validation_generator.samples//BATCH_SIZE,\n",
        "                            epochs=15)"
      ],
      "execution_count": null,
      "outputs": []
    },
    {
      "cell_type": "code",
      "metadata": {
        "id": "MmjbMo4vFlx-"
      },
      "source": [
        "teacher_model.evaluate(test_generator)"
      ],
      "execution_count": null,
      "outputs": []
    },
    {
      "cell_type": "code",
      "metadata": {
        "id": "DYq0mnwMHaHn"
      },
      "source": [
        "#Fine tuning\n",
        "base_model.trainable=True"
      ],
      "execution_count": null,
      "outputs": []
    },
    {
      "cell_type": "code",
      "metadata": {
        "id": "nlGHQHltV5Pf",
        "outputId": "94982e4c-e3a9-46c6-d0bb-e22a3de4051a",
        "colab": {
          "base_uri": "https://localhost:8080/",
          "height": 34
        }
      },
      "source": [
        "print(f\"The base_model has: {len(base_model.layers)} layers\")"
      ],
      "execution_count": null,
      "outputs": [
        {
          "output_type": "stream",
          "text": [
            "The base_model has: 155 layers\n"
          ],
          "name": "stdout"
        }
      ]
    },
    {
      "cell_type": "code",
      "metadata": {
        "id": "2-tZI_t0Vcep"
      },
      "source": [
        "fine_tune_at = 100\n",
        "\n",
        "for layer in base_model.layers[:fine_tune_at]:\n",
        "  layer.trainable=False"
      ],
      "execution_count": null,
      "outputs": []
    },
    {
      "cell_type": "code",
      "metadata": {
        "id": "u_rYEWsCWVQG",
        "outputId": "b54a0dca-0041-4485-e4f9-13e448ffd68b",
        "colab": {
          "base_uri": "https://localhost:8080/",
          "height": 323
        }
      },
      "source": [
        "teacher_model.summary()"
      ],
      "execution_count": null,
      "outputs": [
        {
          "output_type": "stream",
          "text": [
            "Model: \"functional_11\"\n",
            "_________________________________________________________________\n",
            "Layer (type)                 Output Shape              Param #   \n",
            "=================================================================\n",
            "input_21 (InputLayer)        [(None, 96, 96, 3)]       0         \n",
            "_________________________________________________________________\n",
            "mobilenetv2_1.00_96 (Functio (None, 3, 3, 1280)        2257984   \n",
            "_________________________________________________________________\n",
            "global_average_pooling2d_10  (None, 1280)              0         \n",
            "_________________________________________________________________\n",
            "dense_20 (Dense)             (None, 225)               288225    \n",
            "_________________________________________________________________\n",
            "activation_12 (Activation)   (None, 225)               0         \n",
            "=================================================================\n",
            "Total params: 2,546,209\n",
            "Trainable params: 288,225\n",
            "Non-trainable params: 2,257,984\n",
            "_________________________________________________________________\n"
          ],
          "name": "stdout"
        }
      ]
    },
    {
      "cell_type": "code",
      "metadata": {
        "id": "Xgd7mTpMWYq2",
        "outputId": "088004da-7f66-4c03-b344-fcf9cfc96594",
        "colab": {
          "base_uri": "https://localhost:8080/",
          "height": 221
        }
      },
      "source": [
        "calls = [\n",
        "             tf.keras.callbacks.EarlyStopping(patience=5, restore_best_weights=True),\n",
        "             tf.keras.callbacks.ModelCheckpoint('densenet_teacher.h5', save_best_only=True, save_weights_only=True)\n",
        "]\n",
        "history = teacher_model.fit(train_generator, \n",
        "                            batch_size=BATCH_SIZE,\n",
        "                            validation_data=validation_generator,\n",
        "                            steps_per_epoch=train_generator.samples//BATCH_SIZE,\n",
        "                            validation_steps=validation_generator.samples//BATCH_SIZE,\n",
        "                            epochs=100,\n",
        "                            callbacks=calls)"
      ],
      "execution_count": null,
      "outputs": [
        {
          "output_type": "stream",
          "text": [
            "Epoch 1/100\n",
            "978/978 [==============================] - 123s 126ms/step - loss: 0.1489 - accuracy: 0.9530 - val_loss: 0.3981 - val_accuracy: 0.8964\n",
            "Epoch 2/100\n",
            "978/978 [==============================] - 122s 125ms/step - loss: 0.1462 - accuracy: 0.9527 - val_loss: 0.4118 - val_accuracy: 0.8946\n",
            "Epoch 3/100\n",
            "978/978 [==============================] - 122s 125ms/step - loss: 0.1405 - accuracy: 0.9560 - val_loss: 0.4267 - val_accuracy: 0.8893\n",
            "Epoch 4/100\n",
            "978/978 [==============================] - 121s 124ms/step - loss: 0.1353 - accuracy: 0.9567 - val_loss: 0.4297 - val_accuracy: 0.8955\n",
            "Epoch 5/100\n",
            "978/978 [==============================] - 121s 124ms/step - loss: 0.1386 - accuracy: 0.9555 - val_loss: 0.4204 - val_accuracy: 0.8929\n",
            "Epoch 6/100\n",
            "978/978 [==============================] - 121s 124ms/step - loss: 0.1285 - accuracy: 0.9593 - val_loss: 0.4252 - val_accuracy: 0.8946\n"
          ],
          "name": "stdout"
        }
      ]
    },
    {
      "cell_type": "code",
      "metadata": {
        "id": "VpWHv-q0lY_X",
        "outputId": "099b2e12-8a10-46ef-e0f1-1ee59ef64ee4",
        "colab": {
          "base_uri": "https://localhost:8080/",
          "height": 51
        }
      },
      "source": [
        "teacher_model.evaluate(test_generator)"
      ],
      "execution_count": null,
      "outputs": [
        {
          "output_type": "stream",
          "text": [
            "36/36 [==============================] - 2s 45ms/step - loss: 0.3480 - accuracy: 0.9111\n"
          ],
          "name": "stdout"
        },
        {
          "output_type": "execute_result",
          "data": {
            "text/plain": [
              "[0.34798598289489746, 0.9111111164093018]"
            ]
          },
          "metadata": {
            "tags": []
          },
          "execution_count": 22
        }
      ]
    },
    {
      "cell_type": "markdown",
      "metadata": {
        "id": "lw3JaqguiulL"
      },
      "source": [
        "## Student model\n",
        "\n",
        "In this section we will build a model of complexity comparable to the teacher and try to apply knowledge distillation as in the paper."
      ]
    },
    {
      "cell_type": "code",
      "metadata": {
        "id": "Vis-cXrTqGtT",
        "outputId": "b6960389-3e50-4e28-e189-d87c667f2815",
        "colab": {
          "base_uri": "https://localhost:8080/",
          "height": 221
        }
      },
      "source": [
        "student_network = tf.keras.models.Sequential(\n",
        "    [\n",
        "     WideResidualNetwork(225, 16, 4, includeActivation=False),\n",
        "     tf.keras.layers.Activation('softmax')\n",
        "    ]\n",
        ")\n",
        "student_network.build(input_shape=(None, 96, 96, 3))\n",
        "student_network.summary()"
      ],
      "execution_count": null,
      "outputs": [
        {
          "output_type": "stream",
          "text": [
            "Model: \"sequential_12\"\n",
            "_________________________________________________________________\n",
            "Layer (type)                 Output Shape              Param #   \n",
            "=================================================================\n",
            "wide_residual_network_12 (Wi (None, 225)               2836845   \n",
            "_________________________________________________________________\n",
            "activation_25 (Activation)   (None, 225)               0         \n",
            "=================================================================\n",
            "Total params: 2,836,845\n",
            "Trainable params: 2,833,639\n",
            "Non-trainable params: 3,206\n",
            "_________________________________________________________________\n"
          ],
          "name": "stdout"
        }
      ]
    },
    {
      "cell_type": "code",
      "metadata": {
        "id": "lMZbsvx9s5dj"
      },
      "source": [
        "student_network.compile(optimizer='adam', loss='categorical_crossentropy', metrics=['accuracy'])"
      ],
      "execution_count": null,
      "outputs": []
    },
    {
      "cell_type": "code",
      "metadata": {
        "id": "lziApqg9rpYj"
      },
      "source": [
        "BATCH_SIZE=32\n",
        "callbacks = [\n",
        "             tf.keras.callbacks.EarlyStopping(patience=5, restore_best_weights=True, monitor='loss'),\n",
        "             tf.keras.callbacks.ModelCheckpoint('student.h5', save_weights_only=True, save_best_only=True)\n",
        "]\n",
        "fit_args = dict(\n",
        "    epochs=100,\n",
        "    validation_data=validation_generator,\n",
        "    validation_steps=validation_generator.samples//BATCH_SIZE,\n",
        "    steps_per_epoch=train_generator.samples//BATCH_SIZE,\n",
        "    callbacks = callbacks\n",
        "\n",
        ")\n",
        "s_history = distill_knowledge(teacher_model, student_network, train_generator, fit_args=fit_args)"
      ],
      "execution_count": null,
      "outputs": []
    },
    {
      "cell_type": "markdown",
      "metadata": {
        "id": "RPCglJ2cjVPH"
      },
      "source": [
        "## Results\n",
        "\n",
        "The results on test dataset are encouraging even with different models."
      ]
    },
    {
      "cell_type": "code",
      "metadata": {
        "id": "64frZwPxsusV",
        "outputId": "50cc5080-db31-4b6d-c1ad-ff95eaa2e667",
        "colab": {
          "base_uri": "https://localhost:8080/",
          "height": 68
        }
      },
      "source": [
        "teacher_model.evaluate(test_generator)\n",
        "student_network.evaluate(test_generator)\n"
      ],
      "execution_count": null,
      "outputs": [
        {
          "output_type": "stream",
          "text": [
            "36/36 [==============================] - 2s 47ms/step - loss: 0.2924 - accuracy: 0.9182\n",
            "36/36 [==============================] - 2s 60ms/step - loss: 0.2301 - accuracy: 0.9333\n"
          ],
          "name": "stdout"
        },
        {
          "output_type": "execute_result",
          "data": {
            "text/plain": [
              "[0.23009125888347626, 0.9333333373069763]"
            ]
          },
          "metadata": {
            "tags": []
          },
          "execution_count": 31
        }
      ]
    }
  ]
}